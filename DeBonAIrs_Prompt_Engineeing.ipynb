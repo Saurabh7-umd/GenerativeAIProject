{
  "cells": [
    {
      "cell_type": "markdown",
      "metadata": {
        "id": "C2P2nCXd-8gx"
      },
      "source": [
        "# DeBonAIrs\n",
        "\n",
        "\n",
        "Welcome to our Travel AI project, where we are spearheading the development of an advanced Language Model (LM) tailored specifically for the travel industry. Within our engineering notebook, we meticulously document the iterative process of refining our LM, ensuring its accuracy and relevance across a diverse range of travel-related prompts. A core aspect of our workflow involves systematically evaluating the model's output for prompts, enabling us to fine-tune its performance and deliver high-quality, human-like responses. Through innovation and dedication to excellence, we aim to revolutionize the travel experience, empowering users with intelligent AI-driven solutions that enhance planning, exploration, and engagement with the world."
      ]
    },
    {
      "cell_type": "code",
      "source": [],
      "metadata": {
        "id": "ifH769C1Xas7"
      },
      "execution_count": null,
      "outputs": []
    },
    {
      "cell_type": "markdown",
      "metadata": {
        "id": "zMj05qr6-8gz"
      },
      "source": [
        "---"
      ]
    },
    {
      "cell_type": "markdown",
      "metadata": {
        "id": "E4uxLu2V-8g0"
      },
      "source": [
        "## 1. Prompt Engineering\n",
        "\n",
        "Objectives\n",
        "- Load the libraries\n",
        "- Review the format\n",
        "- Cover basic prompts\n",
        "- Review common use cases"
      ]
    },
    {
      "cell_type": "markdown",
      "metadata": {
        "id": "mMwZu7gC-8g0"
      },
      "source": [
        "Below we are loading the necessary libraries, utilities, and configurations."
      ]
    },
    {
      "cell_type": "code",
      "execution_count": 1,
      "metadata": {
        "id": "Wt3ZLKU6-8g0"
      },
      "outputs": [],
      "source": [
        "%%capture\n",
        "# update or install the necessary libraries\n",
        "!pip install --upgrade openai\n",
        "!pip install --upgrade langchain\n",
        "!pip install --upgrade python-dotenv"
      ]
    },
    {
      "cell_type": "code",
      "execution_count": 2,
      "metadata": {
        "id": "KFmE5K12-8g1"
      },
      "outputs": [],
      "source": [
        "import openai\n",
        "import os\n",
        "import IPython\n",
        "from langchain.llms import OpenAI\n",
        "from dotenv import load_dotenv"
      ]
    },
    {
      "cell_type": "markdown",
      "metadata": {
        "id": "fMA1CHdU-8g2"
      },
      "source": [
        "Load environment variables. You can use anything you like but I used `python-dotenv`. Just create a `.env` file with your `OPENAI_API_KEY` then load it."
      ]
    },
    {
      "cell_type": "code",
      "execution_count": 3,
      "metadata": {
        "id": "im0V-TOE-8g2"
      },
      "outputs": [],
      "source": [
        "#oad_dotenv()\n",
        "\n",
        "# API configuration\n",
        "openai.api_key ='sk-proj-JGSydOhnADiszdMjJornT3BlbkFJCQXUHBBzSqrDSCHookxZ'\n",
        "\n",
        "# for LangChain\n",
        "#os.environ[\"OPENAI_API_KEY\"] = os.getenv(\"OPENAI_API_KEY\")"
      ]
    },
    {
      "cell_type": "code",
      "execution_count": 4,
      "metadata": {
        "id": "1c4pbyey-8g2"
      },
      "outputs": [],
      "source": [
        "def set_open_params(\n",
        "    model=\"gpt-3.5-turbo\",\n",
        "    temperature=0.7,\n",
        "    max_tokens=256,\n",
        "    top_p=1,\n",
        "    frequency_penalty=0,\n",
        "    presence_penalty=0,\n",
        "):\n",
        "    \"\"\" set openai parameters\"\"\"\n",
        "\n",
        "    openai_params = {}\n",
        "\n",
        "    openai_params['model'] = model\n",
        "    openai_params['temperature'] = temperature\n",
        "    openai_params['max_tokens'] = max_tokens\n",
        "    openai_params['top_p'] = top_p\n",
        "    openai_params['frequency_penalty'] = frequency_penalty\n",
        "    openai_params['presence_penalty'] = presence_penalty\n",
        "    return openai_params\n",
        "\n",
        "def get_completion(params, messages):\n",
        "    \"\"\" GET completion from openai api\"\"\"\n",
        "\n",
        "    response = openai.chat.completions.create(\n",
        "        model = params['model'],\n",
        "        messages = messages,\n",
        "        temperature = params['temperature'],\n",
        "        max_tokens = params['max_tokens'],\n",
        "        top_p = params['top_p'],\n",
        "        frequency_penalty = params['frequency_penalty'],\n",
        "        presence_penalty = params['presence_penalty'],\n",
        "    )\n",
        "    return response"
      ]
    },
    {
      "cell_type": "markdown",
      "metadata": {
        "id": "KFzqlf9q-8g3"
      },
      "source": [
        "Prompt example:"
      ]
    },
    {
      "cell_type": "code",
      "execution_count": 7,
      "metadata": {
        "colab": {
          "base_uri": "https://localhost:8080/",
          "height": 127
        },
        "id": "M6B4m4YW-8g5",
        "outputId": "afc875cb-6237-4716-82d7-7dd65864c875"
      },
      "outputs": [
        {
          "output_type": "execute_result",
          "data": {
            "text/plain": [
              "\"Day 1: Arrival in Orlando\\n- Check into your hotel and relax after your travels\\n- Head to Disney Springs for dinner and shopping\\n- Enjoy the nightly entertainment at Disney Springs\\n\\nDay 2: Magic Kingdom\\n- Spend the day exploring the iconic Magic Kingdom park\\n- Meet your favorite Disney characters and enjoy classic attractions like Space Mountain and Pirates of the Caribbean\\n- Watch the fireworks show at Cinderella Castle in the evening\\n\\nDay 3: Animal Kingdom\\n- Visit Disney's Animal Kingdom and explore the various animal exhibits and attractions\\n- Take a safari ride through the African savannah and experience the thrilling Expedition Everest roller coaster\\n- Enjoy a meal at one of the park's themed restaurants\\n\\nDay 4: Universal Studios\\n- Head to Universal Studios Orlando and experience the magic of Harry Potter at the Wizarding World of Harry Potter\\n- Enjoy thrilling rides like The Incredible Hulk Coaster and Revenge of the Mummy\\n- Have dinner at CityWalk and explore the shops and entertainment options\\n\\nDay 5: Epcot\\n- Spend the day at Epcot exploring the different countries in the World Showcase\\n- Ride attractions like Test Track and Soarin' Around the World\\n- Enjoy dinner at one of the restaurants in the World Showcase and watch the\""
            ],
            "application/vnd.google.colaboratory.intrinsic+json": {
              "type": "string"
            }
          },
          "metadata": {},
          "execution_count": 7
        }
      ],
      "source": [
        "# Prompt 1\n",
        "params = set_open_params()\n",
        "\n",
        "prompt = \"Generating a 7-day itinerary for a family vacation to Orlando Florida.\"\n",
        "\n",
        "messages = [\n",
        "    {\n",
        "        \"role\": \"user\",\n",
        "        \"content\": prompt\n",
        "    }\n",
        "]\n",
        "\n",
        "response = get_completion(params, messages)\n",
        "response.choices[0].message.content"
      ]
    },
    {
      "cell_type": "code",
      "source": [
        "# Prompt 2\n",
        "params = set_open_params()\n",
        "\n",
        "prompt = \"Generate a two-week itinerary for a cultural and historical tour of Italy.\"\n",
        "\n",
        "messages = [\n",
        "    {\n",
        "        \"role\": \"user\",\n",
        "        \"content\": prompt\n",
        "    }\n",
        "]\n",
        "\n",
        "response = get_completion(params, messages)\n",
        "response.choices[0].message.content"
      ],
      "metadata": {
        "colab": {
          "base_uri": "https://localhost:8080/",
          "height": 126
        },
        "id": "G5AX90kfTHds",
        "outputId": "f3e4c849-5e03-4944-e99e-e40052a84b90"
      },
      "execution_count": 8,
      "outputs": [
        {
          "output_type": "execute_result",
          "data": {
            "text/plain": [
              "\"Day 1-3: Rome\\n- Visit the Colosseum, Roman Forum, and Palatine Hill\\n- Explore the Vatican City and St. Peter's Basilica\\n- Wander through the Pantheon and Piazza Navona\\n- Enjoy a traditional Roman dinner in Trastevere\\n\\nDay 4-5: Florence\\n- Visit the Uffizi Gallery and Accademia Gallery to see Michelangelo's David\\n- Explore the Florence Cathedral and climb to the top of the Duomo for panoramic views\\n- Wander through the historic streets of the city and shop for leather goods\\n\\nDay 6-7: Venice\\n- Take a gondola ride along the Grand Canal\\n- Visit St. Mark's Basilica and the Doge's Palace\\n- Explore the Peggy Guggenheim Collection and the Rialto Market\\n- Enjoy a traditional Venetian meal in a local trattoria\\n\\nDay 8-9: Milan\\n- Visit the Duomo and climb to the rooftop for stunning views of the city\\n- Explore the historic Sforza Castle and see da Vinci's The Last Supper\\n- Shop at the Galleria Vittorio Emanuele II and visit the La Scala opera house\\n\\nDay 10-11\""
            ],
            "application/vnd.google.colaboratory.intrinsic+json": {
              "type": "string"
            }
          },
          "metadata": {},
          "execution_count": 8
        }
      ]
    },
    {
      "cell_type": "code",
      "source": [
        "# Prompt 3\n",
        "params = set_open_params()\n",
        "\n",
        "prompt = \"Create a detailed 10-day itinerary for an adventure and wildlife safari in Kenya.\"\n",
        "\n",
        "messages = [\n",
        "    {\n",
        "        \"role\": \"user\",\n",
        "        \"content\": prompt\n",
        "    }\n",
        "]\n",
        "\n",
        "response = get_completion(params, messages)\n",
        "response.choices[0].message.content"
      ],
      "metadata": {
        "colab": {
          "base_uri": "https://localhost:8080/",
          "height": 127
        },
        "id": "9a-U7Ju4T_wP",
        "outputId": "c8ce5414-2143-4d72-e44e-58c3440a7be7"
      },
      "execution_count": 12,
      "outputs": [
        {
          "output_type": "execute_result",
          "data": {
            "text/plain": [
              "'Day 1: Arrival in Nairobi\\n- Arrive in Nairobi and check into your hotel\\n- Visit the Karen Blixen Museum and Giraffe Centre\\n- Enjoy dinner at a local restaurant\\n\\nDay 2: Nairobi to Amboseli National Park\\n- Drive to Amboseli National Park\\n- Afternoon game drive to spot elephants, lions, and other wildlife\\n- Stay overnight in a safari lodge\\n\\nDay 3: Amboseli National Park\\n- Morning game drive with views of Mount Kilimanjaro\\n- Visit a Maasai village and learn about their culture\\n- Afternoon game drive\\n\\nDay 4: Amboseli National Park to Lake Naivasha\\n- Drive to Lake Naivasha\\n- Take a boat ride on the lake to see hippos and birdlife\\n- Stay overnight in a lodge near the lake\\n\\nDay 5: Lake Naivasha to Maasai Mara National Reserve\\n- Drive to Maasai Mara National Reserve\\n- Afternoon game drive to spot the Big Five\\n- Stay overnight in a luxury tented camp\\n\\nDay 6: Maasai Mara National Reserve\\n- Full day of game drives in the reserve\\n- Optional hot air balloon ride over the savannah at sunrise\\n'"
            ],
            "application/vnd.google.colaboratory.intrinsic+json": {
              "type": "string"
            }
          },
          "metadata": {},
          "execution_count": 12
        }
      ]
    },
    {
      "cell_type": "code",
      "source": [
        "# Prompt 4\n",
        "params = set_open_params()\n",
        "\n",
        "prompt = \"Describe a one-week romantic getaway to the Maldives.\"\n",
        "\n",
        "messages = [\n",
        "    {\n",
        "        \"role\": \"user\",\n",
        "        \"content\": prompt\n",
        "    }\n",
        "]\n",
        "\n",
        "response = get_completion(params, messages)\n",
        "response.choices[0].message.content"
      ],
      "metadata": {
        "colab": {
          "base_uri": "https://localhost:8080/",
          "height": 127
        },
        "id": "v9YU-7xzVG4w",
        "outputId": "29298bd5-277d-45c6-f0b7-71dad8f84c65"
      },
      "execution_count": 10,
      "outputs": [
        {
          "output_type": "execute_result",
          "data": {
            "text/plain": [
              "\"Day 1: Arrive in the Maldives and check into a luxurious overwater villa at a secluded resort. Spend the afternoon relaxing on the private deck, sipping cocktails and watching the sunset over the crystal-clear waters.\\n\\nDay 2: Wake up early for a sunrise yoga session on the beach, followed by a leisurely breakfast overlooking the ocean. Spend the day snorkeling in the vibrant coral reefs, exploring nearby islands by boat, or simply lounging on the white sandy beaches.\\n\\nDay 3: Indulge in a couples' spa day at the resort's world-class spa, with treatments inspired by traditional Maldivian healing techniques. In the evening, enjoy a romantic candlelit dinner on the beach under the stars.\\n\\nDay 4: Take a day trip to a nearby uninhabited island for a picnic lunch and private snorkeling adventure. Explore the untouched beauty of the Maldives and enjoy a romantic sunset cruise back to the resort.\\n\\nDay 5: Spend the day on a private catamaran cruise, snorkeling with dolphins and enjoying a gourmet lunch prepared by the onboard chef. In the evening, sip champagne in a private hot tub overlooking the ocean.\\n\\nDay 6: Embark on a guided sunset kayaking tour through the mangrove forests, followed\""
            ],
            "application/vnd.google.colaboratory.intrinsic+json": {
              "type": "string"
            }
          },
          "metadata": {},
          "execution_count": 10
        }
      ]
    },
    {
      "cell_type": "code",
      "source": [
        "# Prompt 5\n",
        "params = set_open_params()\n",
        "\n",
        "prompt = \"Create a comprehensive 10-day itinerary for exploring Japan.\"\n",
        "\n",
        "messages = [\n",
        "    {\n",
        "        \"role\": \"user\",\n",
        "        \"content\": prompt\n",
        "    }\n",
        "]\n",
        "\n",
        "response = get_completion(params, messages)\n",
        "response.choices[0].message.content"
      ],
      "metadata": {
        "colab": {
          "base_uri": "https://localhost:8080/",
          "height": 127
        },
        "id": "asAkubYLUBNM",
        "outputId": "5a7cfcce-0a57-4199-d54c-90e8250bbeaf"
      },
      "execution_count": 11,
      "outputs": [
        {
          "output_type": "execute_result",
          "data": {
            "text/plain": [
              "'Day 1: Arrival in Tokyo\\n- Arrive in Tokyo and check into your hotel\\n- Visit the Meiji Shrine and Yoyogi Park\\n- Explore the bustling Shibuya crossing and shop in the trendy Harajuku district\\n- Enjoy a traditional Japanese dinner in the Shinjuku area\\n\\nDay 2: Tokyo\\n- Visit the historic Asakusa district and Senso-ji Temple\\n- Explore the Tokyo National Museum and Ueno Park\\n- Take a boat cruise on the Sumida River\\n- Enjoy dinner in the lively nightlife district of Roppongi\\n\\nDay 3: Tokyo\\n- Visit the iconic Tokyo Tower for panoramic views of the city\\n- Explore the upscale shopping district of Ginza\\n- Visit the Tsukiji Fish Market for a sushi breakfast\\n- Relax in the peaceful Hamarikyu Gardens\\n\\nDay 4: Hakone\\n- Take a day trip to Hakone, a scenic town known for its hot springs and views of Mount Fuji\\n- Visit the Hakone Open-Air Museum and Hakone Shrine\\n- Relax in an onsen (hot spring) and enjoy a traditional kaiseki dinner\\n\\nDay 5: Kyoto\\n- Travel to Kyoto, the cultural capital of Japan\\n- Visit the historic K'"
            ],
            "application/vnd.google.colaboratory.intrinsic+json": {
              "type": "string"
            }
          },
          "metadata": {},
          "execution_count": 11
        }
      ]
    }
  ],
  "metadata": {
    "kernelspec": {
      "display_name": "promptlecture",
      "language": "python",
      "name": "python3"
    },
    "language_info": {
      "codemirror_mode": {
        "name": "ipython",
        "version": 3
      },
      "file_extension": ".py",
      "mimetype": "text/x-python",
      "name": "python",
      "nbconvert_exporter": "python",
      "pygments_lexer": "ipython3",
      "version": "3.9.18"
    },
    "orig_nbformat": 4,
    "vscode": {
      "interpreter": {
        "hash": "f38e0373277d6f71ee44ee8fea5f1d408ad6999fda15d538a69a99a1665a839d"
      }
    },
    "colab": {
      "provenance": []
    }
  },
  "nbformat": 4,
  "nbformat_minor": 0
}